{
    "metadata": {
        "kernelspec": {
            "name": "SQL",
            "display_name": "SQL",
            "language": "sql"
        },
        "language_info": {
            "name": "sql",
            "version": ""
        }
    },
    "nbformat_minor": 2,
    "nbformat": 4,
    "cells": [
        {
            "cell_type": "markdown",
            "source": [
                "## Testing Data\n",
                "Test functions to ensure data is imported correctly and queries are providing expected results."
            ],
            "metadata": {
                "azdata_cell_guid": "34cbf675-b25d-4771-b795-32ec86242f9b"
            },
            "attachments": {}
        },
        {
            "cell_type": "code",
            "source": [
                "SELECT *\n",
                "FROM ..CovidDeaths\n",
                "ORDER BY 2,3\n",
                " \n",
                "\n",
                ""
            ],
            "metadata": {
                "azdata_cell_guid": "77565bd1-c42b-45cd-857d-f7b6603fdbf3",
                "language": "sql",
                "tags": []
            },
            "outputs": [],
            "execution_count": null
        },
        {
            "cell_type": "code",
            "source": [
                "SELECT *\n",
                "FROM ..CovidVaccinations\n",
                "ORDER BY 2,3"
            ],
            "metadata": {
                "language": "sql",
                "azdata_cell_guid": "9db771c2-8255-4b83-b20e-e71ccc8f1569"
            },
            "outputs": [],
            "execution_count": null
        },
        {
            "cell_type": "markdown",
            "source": [
                "## Total Cases vs. Total Deaths (Percentage of Deaths from Covid)"
            ],
            "metadata": {
                "language": "sql",
                "azdata_cell_guid": "04bf24b9-4686-4f77-831c-a82e259ae4f4"
            },
            "attachments": {}
        },
        {
            "cell_type": "code",
            "source": [
                "-- Data Used for Death Percentages\n",
                "Select cd.[location], cd.[date], cd.total_cases, cd.new_cases, cd.total_deaths, cd.population\n",
                "FROM ..CovidDeaths cd\n",
                "ORDER BY 1,2"
            ],
            "metadata": {
                "language": "sql",
                "azdata_cell_guid": "e1c39ada-bdd7-45d5-a5c3-4fde4e5713c1",
                "tags": []
            },
            "outputs": [],
            "execution_count": null
        },
        {
            "cell_type": "code",
            "source": [
                "-- Calculating Percent of Deaths from Covid\n",
                "Select cd.[location], cd.[date], cd.total_cases, cd.total_deaths, (cd.total_deaths * 100.0)/cd.total_cases AS DeathPercentage\n",
                "FROM ..CovidDeaths cd\n",
                "ORDER BY 1,2"
            ],
            "metadata": {
                "language": "sql",
                "azdata_cell_guid": "0b92e0ed-40d4-459b-8e6d-e021e750c488",
                "tags": []
            },
            "outputs": [],
            "execution_count": null
        },
        {
            "cell_type": "code",
            "source": [
                "-- Deaths Percentage of U.S. Specifically\n",
                "Select cd.[location], cd.[date], cd.total_cases, cd.total_deaths, (cd.total_deaths * 100.0)/cd.total_cases AS DeathPercentage\n",
                "FROM ..CovidDeaths cd\n",
                "WHERE cd.[location] like '%States'\n",
                "ORDER BY 1,2"
            ],
            "metadata": {
                "language": "sql",
                "azdata_cell_guid": "1cf39e4b-22ef-41dc-8016-05108c4968c4",
                "tags": []
            },
            "outputs": [],
            "execution_count": null
        },
        {
            "cell_type": "markdown",
            "source": [
                "The Death percentage in the United States started off high due to the limited total cases reported. Around April of 2022, the percentage of deaths from individuals with Covid was at its highest with around a 6.29 percent and the percentage slowly began declining at the start of May in 2020.\n",
                "As of August of 2022, the death percentage of individuals with Covid is abour a 1.11 percent. This can be due to precautions the United States has taken regarding mask mandates and social distancing, or the result of newly discovered medical treatment such as the COVID vaccination and booster shots available to the public."
            ],
            "metadata": {
                "language": "sql",
                "azdata_cell_guid": "7b6a5ba3-dc06-4f92-b6d4-5afae3527182"
            },
            "attachments": {}
        },
        {
            "cell_type": "markdown",
            "source": [
                "## Infection Rate"
            ],
            "metadata": {
                "azdata_cell_guid": "6cb36371-00ac-4edf-b960-20d3fcee53b2"
            },
            "attachments": {}
        },
        {
            "cell_type": "code",
            "source": [
                "-- Total Cases vs. Population\n",
                "Select cd.[location], cd.[date], cd.population,  cd.total_cases, (cd.total_cases * 100.0)/cd.population AS InfectedPopulation\n",
                "FROM ..CovidDeaths cd\n",
                "ORDER BY 1,2"
            ],
            "metadata": {
                "azdata_cell_guid": "6bb3430c-4eae-4114-81a0-7ae7bc307f4d",
                "language": "sql"
            },
            "outputs": [],
            "execution_count": null
        },
        {
            "cell_type": "markdown",
            "source": [
                "Shows the growth in percent of total population infected every day for each country. From this data we can see when a country or countries exceeded certain metrics, such as how long it took for 5 percent of the country to become infected from Covid, or the length of time taken for a country to have 10 percent of their population infected to 15 percent."
            ],
            "metadata": {
                "language": "sql",
                "azdata_cell_guid": "24df3d26-d70b-4823-b900-f36d7111f5ed"
            },
            "attachments": {}
        },
        {
            "cell_type": "code",
            "source": [
                "-- Countries with highest Infection Rate Compared to Population\n",
                "Select cd.[location], cd.population, date,  MAX(cd.total_cases) AS HighestInfectionCount, MAX((cd.total_cases * 100.0)/cd.population) AS InfectedPopulation\n",
                "FROM ..CovidDeaths cd\n",
                "GROUP BY cd.[location], cd.population, [date]\n",
                "ORDER BY InfectedPopulation DESC"
            ],
            "metadata": {
                "language": "sql",
                "azdata_cell_guid": "3a621e91-ee52-494c-b2c3-ce5ec0a90950"
            },
            "outputs": [],
            "execution_count": null
        },
        {
            "cell_type": "markdown",
            "source": [
                "Many small countries such as Faeroe Islands and Cuprus have the highest infection population, with more than 60 percent of the population being infected, but there ar elarger countries such as Portugal and France, which is populated by tens of millions, and have an infection percent at around 50 percent. The United States has about 27 percent of the population reported to have been infected. From this data conclusions can be drawn about a country's ability in preventing the spread of the virus. Since France is surrounded by small countries that are high in percent of population infected, France could have had difficulty preventing infected individuals from entered and exiting their country."
            ],
            "metadata": {
                "language": "sql",
                "azdata_cell_guid": "e37597d7-00ab-4a52-84e3-008ddf17b83b"
            },
            "attachments": {}
        },
        {
            "cell_type": "markdown",
            "source": [
                "## Death Count"
            ],
            "metadata": {
                "language": "sql",
                "azdata_cell_guid": "b0ab48bd-78a9-46a7-b143-1556c2946b7a"
            },
            "attachments": {}
        },
        {
            "cell_type": "code",
            "source": [
                "-- Countries with Highest Death Count per Population\n",
                "Select cd.[location],  MAX(cd.total_deaths) AS TotalDeathCount\n",
                "FROM ..CovidDeaths cd\n",
                "WHERE continent is not null\n",
                "GROUP BY cd.[location]\n",
                "ORDER BY TotalDeathCount DESC"
            ],
            "metadata": {
                "language": "sql",
                "azdata_cell_guid": "6f09c56f-2743-4f72-96df-679a9a9e9706",
                "tags": []
            },
            "outputs": [],
            "execution_count": null
        },
        {
            "cell_type": "code",
            "source": [
                "-- Continent With Highest Death Count\n",
                "Select cd.[location],  MAX(cd.total_deaths) AS TotalDeathCount\n",
                "FROM ..CovidDeaths cd\n",
                "WHERE continent is null and iso_code NOT IN ('OWID_LIC', 'OWID_HIC','OWID_LMC','OWID_UMC' ) and [location] not in ('World', 'European Union', 'International')\n",
                "GROUP BY cd.[location]\n",
                "ORDER BY TotalDeathCount DESC"
            ],
            "metadata": {
                "language": "sql",
                "azdata_cell_guid": "9956d251-e3a1-4312-87ec-d929e910fb5f",
                "tags": []
            },
            "outputs": [],
            "execution_count": null
        },
        {
            "cell_type": "code",
            "source": [
                "---- Total Cases vs. Total Deaths GLOBALLY for every day\n",
                "Select cd.[date], SUM(cd.new_cases) as total_cases, SUM(cd.new_deaths) as total_deaths, (SUM(cd.new_deaths) * 100.0)/SUM(cd.new_cases) AS DeathPercentage\n",
                "FROM ..CovidDeaths cd\n",
                "WHERE continent is not null\n",
                "GROUP BY [date]\n",
                "ORDER BY 1,2"
            ],
            "metadata": {
                "language": "sql",
                "azdata_cell_guid": "4aca0991-3c9f-4ae2-b40c-7e066864d779"
            },
            "outputs": [],
            "execution_count": null
        },
        {
            "cell_type": "code",
            "source": [
                "-- Total Death Percentage Across All Countries\n",
                "Select  SUM(cd.new_cases) as total_cases, SUM(cd.new_deaths) as total_deaths, (SUM(cd.new_deaths) * 100.0)/SUM(cd.new_cases) AS DeathPercentage\n",
                "FROM ..CovidDeaths cd\n",
                "WHERE continent is not null\n",
                "ORDER BY 1,2"
            ],
            "metadata": {
                "language": "sql",
                "azdata_cell_guid": "13bc5110-2af9-4ea8-9af1-7970d6ae9de9",
                "tags": []
            },
            "outputs": [],
            "execution_count": null
        },
        {
            "cell_type": "markdown",
            "source": [
                "Roughly 1.08 percent of the entire global population, of all pariticapting countries, had covid resulted in deaths. This is about 6.4 million people that lost their lvies after reporting they had Covid. This statistic can be used to show the deadly impact of the pandemic and can help promote the necessity of vaccines. Also can be used to show the significant need for all countries to work together during this unexpected time, to ensure the death count stays low and people all around the world are able to live safely."
            ],
            "metadata": {
                "language": "sql",
                "azdata_cell_guid": "cfb9f66f-dc44-43bc-b666-81721a89563d"
            },
            "attachments": {}
        },
        {
            "cell_type": "markdown",
            "source": [
                "## Joining Covid Deaths and Covid Vaccination Tables"
            ],
            "metadata": {
                "language": "sql",
                "azdata_cell_guid": "c4bbeb3c-96ac-42c3-8081-fa46fb96ccbc"
            },
            "attachments": {}
        },
        {
            "cell_type": "code",
            "source": [
                "SELECT *\n",
                "FROM ..CovidDeaths cd\n",
                "JOIN ..CovidVaccinations cv\n",
                "    ON cd.[date] = cv.[date]\n",
                "    and cd.[location] = cv.[location]"
            ],
            "metadata": {
                "language": "sql",
                "azdata_cell_guid": "aa24fbdb-347b-48ed-8d55-94bae9cfd4b1"
            },
            "outputs": [],
            "execution_count": null
        },
        {
            "cell_type": "markdown",
            "source": [
                "## Vaccination Count"
            ],
            "metadata": {
                "language": "sql",
                "azdata_cell_guid": "867b1cd6-f920-4f41-95c6-f819328af866"
            },
            "attachments": {}
        },
        {
            "cell_type": "code",
            "source": [
                "-- Daily Count of New Covid Vaccinations\n",
                "SELECT cd.[continent], cd.[location], cd.[date], cd.population, cv.new_vaccinations\n",
                "FROM ..CovidDeaths cd\n",
                "JOIN ..CovidVaccinations cv\n",
                "    ON cd.[date] = cv.[date]\n",
                "    and cd.[location] = cv.[location]\n",
                "WHERE cd.continent is not NULL \n",
                "ORDER BY 2,3"
            ],
            "metadata": {
                "language": "sql",
                "azdata_cell_guid": "2dbb4045-2740-45c6-887b-ba4c9cad9940"
            },
            "outputs": [],
            "execution_count": null
        },
        {
            "cell_type": "markdown",
            "source": [
                "Can be useful to track the spread of the vaccine for each country, and see which countries might need to increase efforts in spreading the vaccine among the public. Also tracks the vaccinations on a daily basis allowing for further investigation on what days of the week received the most vaccinations for a certain country, which can help countries decice which days they should be focusing more of their resources on, in order to assist as many people as they can."
            ],
            "metadata": {
                "language": "sql",
                "azdata_cell_guid": "03a2408f-0dc1-432c-87d6-16edbf3a9d6e"
            },
            "attachments": {}
        },
        {
            "cell_type": "code",
            "source": [
                "-- Rolling Count of Percent of Population that is vaccinated\n",
                "With PopvsVac (Continent, Location, Date, Population, new_vaccinations, rolling_vaccinations)\n",
                "as\n",
                "(\n",
                "SELECT cd.[continent], cd.[location], cd.[date], cd.population, cv.new_vaccinations\n",
                ", SUM(CONVERT(bigint,cv.new_vaccinations)) OVER (PARTITION BY cd.LOCATION ORDER BY cd.location, cd.date) AS rolling_vaccinations\n",
                "FROM ..CovidDeaths cd\n",
                "JOIN ..CovidVaccinations cv\n",
                "    ON cd.[location] = cv.[location]\n",
                "    and cd.[date] = cv.[date]\n",
                "WHERE cd.continent is not NULL\n",
                "\n",
                ")\n",
                "SELECT *, (rolling_vaccinations * 100.0/Population) As VaccinationPercentage\n",
                "FROM PopvsVac"
            ],
            "metadata": {
                "language": "sql",
                "azdata_cell_guid": "b7b5caf3-6aeb-45ef-a6f0-09e122e67698"
            },
            "outputs": [],
            "execution_count": null
        },
        {
            "cell_type": "markdown",
            "source": [
                "This table can help countries compare the total number of vaccined individuals and the entire population to see if they should dedicate more time and resources in spreading the vaccine. For example, we can see that it took the United States about 2 weeks to vaccindate 1 percent of their total population, which was about 363 thousand individuals. From then it took our country abour a month to break the 10 percent marker of total population vaccinated. This was over 34 million indiviudals. The table shows that within a month and a half, the country was able to provide over 34 million indiviudals with the highly demanded vaccine, showing that had a decent system considering the constraints that had to be met, such as deadlines, limited resources, and so on."
            ],
            "metadata": {
                "language": "sql",
                "azdata_cell_guid": "9ee3476b-25d4-4b88-8ab7-fa0b0c1aa248"
            },
            "attachments": {}
        },
        {
            "cell_type": "code",
            "source": [
                "-- Percentage of population Hospitalized\n",
                "Select cd.[location], cd.[date], cd.total_cases, cd.hosp_patients, (cd.hosp_patients * 100.0)/cd.total_cases AS HospitalizedPercentage\n",
                "FROM ..CovidDeaths cd\n",
                "Where hosp_patients is not null\n",
                "ORDER BY 1,2"
            ],
            "metadata": {
                "language": "sql",
                "azdata_cell_guid": "865c1509-a2bd-455f-9c19-eb78ba35b04c"
            },
            "outputs": [],
            "execution_count": null
        },
        {
            "cell_type": "markdown",
            "source": [
                "The Covid Pandemic showed how unexpected situations can cause panic and need of medical assistance. The data gathered from COVID can be used to help establish how much/many resources and medical expertise may be needed in future pandemics."
            ],
            "metadata": {
                "language": "sql",
                "azdata_cell_guid": "31fe10fa-795c-4b59-a301-c402661acbed"
            },
            "attachments": {}
        },
        {
            "cell_type": "code",
            "source": [
                "-- Countries with highest Death Count vs. Number of Patients Hospitalized\n",
                "Select cd.[location], MAX(cd.total_deaths) AS TotalDeathCount, MAX(cd.hosp_patients) AS TotalHospitalized\n",
                "FROM ..CovidDeaths cd\n",
                "WHERE continent is not null\n",
                "GROUP BY cd.[location]\n",
                "ORDER BY TotalDeathCount DESC"
            ],
            "metadata": {
                "language": "sql",
                "azdata_cell_guid": "a9f38f7c-3150-4c05-819a-961c745b445d"
            },
            "outputs": [],
            "execution_count": null
        },
        {
            "cell_type": "markdown",
            "source": [
                "The United States had the highest Death Count, but also had the highest Hopstalized Count. Could help show how the country was able to quicly adjust to the unique constraints and help as many individuals as they could."
            ],
            "metadata": {
                "language": "sql",
                "azdata_cell_guid": "bd57e735-b471-459a-8bda-0fd67d4b25f1"
            },
            "attachments": {}
        },
        {
            "cell_type": "markdown",
            "source": [
                "## Creating Views to Store Data for Visualization"
            ],
            "metadata": {
                "language": "sql",
                "azdata_cell_guid": "6ed91536-d5f4-4cf2-91a5-3342e27c16fe"
            },
            "attachments": {}
        },
        {
            "cell_type": "code",
            "source": [
                "-- -- Total Cases vs. Total Deaths\n",
                "-- Create VIEW TotalCasesVsTotalDeaths as\n",
                "-- Select cd.[location], cd.[date], cd.total_cases, cd.total_deaths, (cd.total_deaths * 100.0)/cd.total_cases AS DeathPercentage\n",
                "-- FROM ..CovidDeaths cd"
            ],
            "metadata": {
                "language": "sql",
                "azdata_cell_guid": "39127fdc-bf3a-4f4c-9838-85bcd5545dca"
            },
            "outputs": [],
            "execution_count": null
        },
        {
            "cell_type": "code",
            "source": [
                "-- -- Looking at Death Percentage of U.S. Specifically\n",
                "-- Create View USDeathPercentage as\n",
                "-- Select cd.[location], cd.[date], cd.total_cases, cd.total_deaths, (cd.total_deaths * 100.0)/cd.total_cases AS DeathPercentage\n",
                "-- FROM ..CovidDeaths cd\n",
                "-- WHERE location like '%States'\n",
                ""
            ],
            "metadata": {
                "language": "sql",
                "azdata_cell_guid": "56b39ce2-606a-47a5-8560-6301290749c8"
            },
            "outputs": [],
            "execution_count": null
        },
        {
            "cell_type": "code",
            "source": [
                "-- -- Total Cases vs. Population\n",
                "-- Create View TotalCasesVsPopulation as\n",
                "-- Select cd.[location], cd.[date], cd.population,  cd.total_cases, (cd.total_cases * 100.0)/cd.population AS InfectedPopulation\n",
                "-- FROM ..CovidDeaths cd\n",
                ""
            ],
            "metadata": {
                "language": "sql",
                "azdata_cell_guid": "d711b00c-598c-4330-a713-0620bef2d677"
            },
            "outputs": [],
            "execution_count": null
        },
        {
            "cell_type": "code",
            "source": [
                "-- -- Total Cases vs. Population for US Specifically\n",
                "-- Create View USTotalCasesVsPopulation as\n",
                "-- Select cd.[location], cd.[date], cd.population,  cd.total_cases, (cd.total_cases * 100.0)/cd.population AS InfectedPopulation\n",
                "-- FROM ..CovidDeaths cd\n",
                "-- WHERE location like '%States'\n",
                "\n",
                ""
            ],
            "metadata": {
                "language": "sql",
                "azdata_cell_guid": "bcebdd5b-d653-4e8f-95c6-a14bcaa2970b"
            },
            "outputs": [],
            "execution_count": null
        }
    ]
}