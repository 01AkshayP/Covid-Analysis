{
    "metadata": {
        "kernelspec": {
            "name": "SQL",
            "display_name": "SQL",
            "language": "sql"
        },
        "language_info": {
            "name": "sql",
            "version": ""
        }
    },
    "nbformat_minor": 2,
    "nbformat": 4,
    "cells": [
        {
            "cell_type": "markdown",
            "source": [
                "## Testing Data\n",
                "Test functions to ensure data is imported correctly and queries are providing expected results."
            ],
            "metadata": {
                "azdata_cell_guid": "34cbf675-b25d-4771-b795-32ec86242f9b"
            },
            "attachments": {}
        },
        {
            "cell_type": "code",
            "source": [
                "SELECT *\n",
                "FROM ..CovidDeaths\n",
                "ORDER BY 2,3\n",
                " \n",
                "\n",
                ""
            ],
            "metadata": {
                "azdata_cell_guid": "77565bd1-c42b-45cd-857d-f7b6603fdbf3",
                "language": "sql",
                "tags": []
            },
            "outputs": [],
            "execution_count": null
        },
        {
            "cell_type": "code",
            "source": [
                "SELECT *\n",
                "FROM ..CovidVaccinations\n",
                "ORDER BY 2,3"
            ],
            "metadata": {
                "language": "sql",
                "azdata_cell_guid": "9db771c2-8255-4b83-b20e-e71ccc8f1569"
            },
            "outputs": [],
            "execution_count": null
        },
        {
            "cell_type": "markdown",
            "source": [
                "## Total Cases vs. Total Deaths (Percentage of Deaths from Covid)"
            ],
            "metadata": {
                "language": "sql",
                "azdata_cell_guid": "04bf24b9-4686-4f77-831c-a82e259ae4f4"
            },
            "attachments": {}
        },
        {
            "cell_type": "code",
            "source": [
                "-- Data Used for Death Percentages\n",
                "Select cd.[location], cd.[date], cd.total_cases, cd.new_cases, cd.total_deaths, cd.population\n",
                "FROM ..CovidDeaths cd\n",
                "ORDER BY 1,2"
            ],
            "metadata": {
                "language": "sql",
                "azdata_cell_guid": "e1c39ada-bdd7-45d5-a5c3-4fde4e5713c1",
                "tags": []
            },
            "outputs": [],
            "execution_count": null
        },
        {
            "cell_type": "code",
            "source": [
                "-- Calculating Percent of Deaths from Covid\n",
                "Select cd.[location], cd.[date], cd.total_cases, cd.total_deaths, (cd.total_deaths * 100.0)/cd.total_cases AS DeathPercentage\n",
                "FROM ..CovidDeaths cd\n",
                "ORDER BY 1,2"
            ],
            "metadata": {
                "language": "sql",
                "azdata_cell_guid": "0b92e0ed-40d4-459b-8e6d-e021e750c488",
                "tags": []
            },
            "outputs": [],
            "execution_count": null
        },
        {
            "cell_type": "code",
            "source": [
                "-- Deaths Percentage of U.S. Specifically\n",
                "Select cd.[location], cd.[date], cd.total_cases, cd.total_deaths, (cd.total_deaths * 100.0)/cd.total_cases AS DeathPercentage\n",
                "FROM ..CovidDeaths cd\n",
                "WHERE cd.[location] like '%States'\n",
                "ORDER BY 1,2"
            ],
            "metadata": {
                "language": "sql",
                "azdata_cell_guid": "1cf39e4b-22ef-41dc-8016-05108c4968c4",
                "tags": []
            },
            "outputs": [],
            "execution_count": null
        },
        {
            "cell_type": "markdown",
            "source": [
                "The Death percentage in the United States started off high due to the limited total cases reported. Around April of 2022, the percentage of deaths from individuals with Covid was at its highest with around a 6.29 percent and the percentage slowly began declining at the start of May in 2020.\n",
                "As of August of 2022, the death percentage of individuals with Covid is abour a 1.11 percent. This can be due to precautions the United States has taken regarding mask mandates and social distancing, or the result of newly discovered medical treatment such as the COVID vaccination and booster shots available to the public."
            ],
            "metadata": {
                "language": "sql",
                "azdata_cell_guid": "7b6a5ba3-dc06-4f92-b6d4-5afae3527182"
            },
            "attachments": {}
        },
        {
            "cell_type": "markdown",
            "source": [
                "## Infection Rate"
            ],
            "metadata": {
                "azdata_cell_guid": "6cb36371-00ac-4edf-b960-20d3fcee53b2"
            },
            "attachments": {}
        },
        {
            "cell_type": "code",
            "source": [
                "-- Total Cases vs. Population\n",
                "Select cd.[location], cd.[date], cd.population,  cd.total_cases, (cd.total_cases * 100.0)/cd.population AS InfectedPopulation\n",
                "FROM ..CovidDeaths cd\n",
                "ORDER BY 1,2"
            ],
            "metadata": {
                "azdata_cell_guid": "6bb3430c-4eae-4114-81a0-7ae7bc307f4d",
                "language": "sql"
            },
            "outputs": [],
            "execution_count": null
        },
        {
            "cell_type": "markdown",
            "source": [
                "Shows the growth in percent of total population infected every day for each country. From this data we can see when a country or countries exceeded certain metrics, such as how long it took for 5 percent of the country to become infected from Covid, or the length of time taken for a country to have 10 percent of their population infected to 15 percent."
            ],
            "metadata": {
                "language": "sql",
                "azdata_cell_guid": "24df3d26-d70b-4823-b900-f36d7111f5ed"
            },
            "attachments": {}
        },
        {
            "cell_type": "code",
            "source": [
                "-- Countries with highest Infection Rate Compared to Population\n",
                "Select cd.[location], cd.population, date,  MAX(cd.total_cases) AS HighestInfectionCount, MAX((cd.total_cases * 100.0)/cd.population) AS InfectedPopulation\n",
                "FROM ..CovidDeaths cd\n",
                "GROUP BY cd.[location], cd.population, [date]\n",
                "ORDER BY InfectedPopulation DESC"
            ],
            "metadata": {
                "language": "sql",
                "azdata_cell_guid": "3a621e91-ee52-494c-b2c3-ce5ec0a90950"
            },
            "outputs": [],
            "execution_count": null
        },
        {
            "cell_type": "markdown",
            "source": [
                "Many small countries such as Faeroe Islands and Cuprus have the highest infection population, with more than 60 percent of the population being infected, but there ar elarger countries such as Portugal and France, which is populated by tens of millions, and have an infection percent at around 50 percent. The United States has about 27 percent of the population reported to have been infected. From this data conclusions can be drawn about a country's ability in preventing the spread of the virus. Since France is surrounded by small countries that are high in percent of population infected, France could have had difficulty preventing infected individuals from entered and exiting their country."
            ],
            "metadata": {
                "language": "sql",
                "azdata_cell_guid": "e37597d7-00ab-4a52-84e3-008ddf17b83b"
            },
            "attachments": {}
        },
        {
            "cell_type": "markdown",
            "source": [
                "## Death Count"
            ],
            "metadata": {
                "language": "sql",
                "azdata_cell_guid": "b0ab48bd-78a9-46a7-b143-1556c2946b7a"
            },
            "attachments": {}
        },
        {
            "cell_type": "code",
            "source": [
                "-- Countries with Highest Death Count per Population\n",
                "Select cd.[location],  MAX(cd.total_deaths) AS TotalDeathCount\n",
                "FROM ..CovidDeaths cd\n",
                "WHERE continent is not null\n",
                "GROUP BY cd.[location]\n",
                "ORDER BY TotalDeathCount DESC"
            ],
            "metadata": {
                "language": "sql",
                "azdata_cell_guid": "6f09c56f-2743-4f72-96df-679a9a9e9706",
                "tags": []
            },
            "outputs": [],
            "execution_count": null
        },
        {
            "cell_type": "code",
            "source": [
                "-- Continent With Highest Death Count\n",
                "Select cd.[location],  MAX(cd.total_deaths) AS TotalDeathCount\n",
                "FROM ..CovidDeaths cd\n",
                "WHERE continent is null and iso_code NOT IN ('OWID_LIC', 'OWID_HIC','OWID_LMC','OWID_UMC' ) and [location] not in ('World', 'European Union', 'International')\n",
                "GROUP BY cd.[location]\n",
                "ORDER BY TotalDeathCount DESC"
            ],
            "metadata": {
                "language": "sql",
                "azdata_cell_guid": "9956d251-e3a1-4312-87ec-d929e910fb5f"
            },
            "outputs": [],
            "execution_count": null
        }
    ]
}